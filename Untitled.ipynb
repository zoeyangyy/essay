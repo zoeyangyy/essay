{
 "cells": [
  {
   "cell_type": "code",
   "execution_count": 23,
   "metadata": {},
   "outputs": [],
   "source": [
    "f = open('/Users/zoe/Documents/event_extraction/wande-data/news_2017_json.txt', 'r', encoding='gb18030')\n",
    "a = f.readlines()\n",
    "f.close()"
   ]
  },
  {
   "cell_type": "code",
   "execution_count": 36,
   "metadata": {
    "scrolled": true
   },
   "outputs": [
    {
     "name": "stdout",
     "output_type": "stream",
     "text": [
      "{\"OBJECT_ID\":\"392980069\",\"PUBLISHDATE\":\"2017-01-01 00:22:11\",\"TITLE\":\"A股2016举牌凶猛:69公司获千亿资本青睐 宝万之争受关注\",\"CONTENT\":\"<DIV>\t\t\t<P>中国网财经1月1日讯(记者 刘小菲) 刚刚过去的2016对于资本市场来说是充满硝烟和火药味的一年。从你方唱罢我登场的“股权之争”，到上市公司频繁被<A  href=\"http://app.finance.china.com.cn/stock/cate/detail.php?symbol=400124989\" target=\"_blank\" title=\"\">举牌</A>，再到接二连三的股东内讧和家族纷争，一幕幕“宫斗”大剧都成为市场关注的焦点。</P><P>据中国网财经记者不安全统计，截至12月30日收盘，A股市场2016年共有69家上市公司被举牌，合计发生共108次，涉及总金额达1002亿元。</P><P align=center></P><P><STRONG>各路资本举牌耗资超千亿 险资意外没成主体</strong></P><P>2016年各路资本频频在二级市场举牌，热闹非凡。令投资者感到颇为意外的是，在二级市场频繁扫货的险资却没有成为举牌的主体。</P><P>中国网财经记者梳理发现，2016年A股市场的举牌主体主要有保险、私募、产业资本、国有资本以及个人，其中私募基金举牌次数最多，全年共47次涉及35家上市公司，合计金额达221.12亿元。</P><P>而险资方面，记者统计发现，2016年保险企业共斥资257.93亿元对7家上市公司进行举牌，其中“不差钱”的安邦在11月份耗资约240亿元两度举牌<A  href=\"http://finance.china.com.cn/stock/quote/sh601668/\" target=\"_blank\" title=\"\">中国建筑</A>；阳光产险11月21日举牌<A  href=\"http://finance.china.com.cn/stock/quote/sz000623/\" target=\"_blank\" title=\"\">吉林敖东</A>；百年人寿举牌<A  href=\"http://finance.china.com.cn/stock/quote/sz002085/\" target=\"_blank\" title=\"\">万丰奥威</A>和<A  href=\"http://finance.china.com.cn/stock/quote/sz002426/\" target=\"_blank\" title=\"\">胜利精密</A>；“定增王”<A  href=\"http://app.finance.china.com.cn/person/detail.php?id=1285\" target=\"_blank\" title=\"\">刘益谦</A>作为实际控制人的国华人寿则对<A  href=\"http://finance.china.com.cn/stock/quote/sz000783/\" target=\"_blank\" title=\"\">长江证券</A>和天辰股份进行举牌，值得注意的是，国华人寿前三季度累计亏损2.33亿元。</P><P>另外，以前海人寿为资本平台的“<A  href=\"http://app.finance.china.com.cn/stock/cate/detail.php?symbol=400130017\" target=\"_blank\" title=\"\">宝能</A>系”在2016年对<A  href=\"http://finance.china.com.cn/stock/quote/sz000002/\" target=\"_blank\" title=\"\">万科A</A>和<A  href=\"http://finance.china.com.cn/stock/quote/sz000012/\" target=\"_blank\" title=\"\">南玻A</A>进行了举牌，同时还增持了<A  href=\"http://finance.china.com.cn/stock/quote/sz000651/\" target=\"_blank\" title=\"\">格力电器</A>、<A  href=\"http://finance.china.com.cn/stock/quote/sz000069/\" target=\"_blank\" title=\"\">华侨城A</A>等多只优质个股。统计显示，宝能目前共持有超过40家A股上市公司股权，其中对格力电器的持股升至4.13%逼近举牌红线。</P><P><STRONG>宝万之争受瞩目 万科现有管理团队去向成谜</strong></P><P>在资本步步进逼下，上市公司原有的治理结构被打破，其中“宝万之争”最受市场瞩目。2016年以来，围绕万科的控制权，宝能系、华润、安邦、万科管理层等先后入局。据中国网财经记者不完全统计，宝能系、<A  href=\"http://app.finance.china.com.cn/stock/cate/detail.php?symbol=400130015\" target=\"_blank\" title=\"\">恒大</A>系、安邦投入到万科股权之争中的金额超过900亿元，其中宝能系前后五次举牌万科A耗资超过400亿元，恒大也超过了350亿元。</P><P>2017年3月，万科将迎来股权之争后的首次董事会换届改举，现有的万科管理团队甚至是创始人会不会被“扫地出门”，市场拭目以外。不过，中国网财经记者梳理以往的资本层与管理人的较量，发现后者几无胜算。</P><P><STRONG><A  href=\"http://finance.china.com.cn/stock/quote/sh600016/\" target=\"_blank\" title=\"\">民生银行</A>硝烟四起 股权之争持续时间超23年</strong></P><P>“谁的万科”尚未结局，同样股权分散的民生银行也硝烟四起。</P><P>今年6月29日晚间，民生银行发布公告，称<A  href=\"http://finance.china.com.cn/stock/quote/sh600811/\" target=\"_blank\" title=\"\">东方集团</A>与华夏人寿签署协议，联合成为安邦之后民生银行第二大股东。紧接着，7月11日至14日短短四天，<A  href=\"http://finance.china.com.cn/stock/quote/sz000046/\" target=\"_blank\" title=\"\">泛海控股</A>掌门人<A  href=\"http://app.finance.china.com.cn/person/detail.php?id=467\" target=\"_blank\" title=\"\">卢志强</A>耗资75亿元增持民生银行股份，成为安邦和“东方集团+华夏人寿”联合体之后的第三大股东，引发市场对相关方意图争夺大股东的猜测。</P><P>12月16日，民生银行发布公告，称已经“超期服役”600多天的民生银行董事会将迎来换届选举。在此背景下，民生银行再度遭到多个股东的抢筹。继12月2日<A  href=\"http://app.finance.china.com.cn/person/detail.php?id=397\" target=\"_blank\" title=\"\">史玉柱</A>大手笔增持成为民生银行第三大股东后，12月19日晚间，民生银行发布公告称，“12月15日至16日，卢志强掌控的泛海系共计买入民生银行H股约1.35亿股，占民生银行总股本的0.369%”。</P><P>据了解，民生银行自诞生以来股权之争就未曾间断，截至今年已经有长达23年的历史。如今，围绕这次董事会选举的股权大战还在继续。截至目前，民生银行主要股东中，除了持股5%的卢志强和持股4.97%的史玉柱，第一大股东安邦、<A  href=\"http://app.finance.china.com.cn/person/detail.php?id=132\" target=\"_blank\" title=\"\">刘永好</A>的<A  href=\"http://finance.china.com.cn/stock/quote/sz000876/\" target=\"_blank\" title=\"\">新希望</A>、证金公司、以及此前“抱团”的东方集团和华夏人寿，均有提名董事的资格，其持股比例分别为15.54%、4.18%、4.2%和5.74%。</P><P><STRONG>股权之争影响经营 <A  href=\"http://finance.china.com.cn/stock/quote/sh600315/\" target=\"_blank\" title=\"\">上海家化</A>业绩受累连降</strong></P><P>除万科A和民生银行外，A股市场正在经历“股权大战”的还有南玻A、<A  href=\"http://finance.china.com.cn/stock/quote/sh600753/\" target=\"_blank\" title=\"\">东方银星</A>、<A  href=\"http://finance.china.com.cn/stock/quote/sh600785/\" target=\"_blank\" title=\"\">新华百货</A>、<A  href=\"http://finance.china.com.cn/stock/quote/sz002014/\" target=\"_blank\" title=\"\">永新股份</A>、<A  href=\"http://finance.china.com.cn/stock/quote/sz000752/\" target=\"_blank\" title=\"\">西藏发展</A>、<A  href=\"http://finance.china.com.cn/stock/quote/sz000048/\" target=\"_blank\" title=\"\">康达尔</A>等上市公司。</P><P>社科院经济研究所研究员剧锦文接受记者采访时表示，企业用自己的钱去投资上市公司，从而获得控制权并没有什么问题。但由于国内上市公司信披机制还不健全，独董还不能完全代表中小股东利益，在此背景下，股权之争往往会出现对中小股东利益损害的情况。</P><P>也有业内人士在接受中国网财经记者采访时指出：“上市公司股权斗争的时间一般持续比较长，在此过程中管理层很难把注意力放到日常经营方面，不少公司业绩出现大幅下滑。”</P><P>以上海家化为例，预计2016年全年净利润面临80%至90%的缩水。事实上，上海家化业绩增速放缓趋势早在2013年就开始体现。数据显示，上海家化2012年净利润同比上涨72.02%， 2013年和2014年仅为28.76%和12.22%，2015年虽然再次出现翻倍增长，但主要是变卖天江药业资产所得，从扣非净利润来看比上一年度下滑了6.38%。</P><P>中国网财经记者注意到，上海家化业绩开始下滑的时间节点和“葛文耀与谢文坚等公司时任管理层展开内斗”的时间高度吻合。2013年5月23日，葛文耀在上海家化股东大会上以“健康理由”被迫退休，随后便频繁在其个人微博“炮轰”公司时任管理层。</P><P>不过，与业绩的萎靡不同，“举牌大战”直接导致了标的上市公司二级市场股价异动频频上演。中国网财经记者梳理发现，今年A股发生的108次举牌，多数个股在公告披露日前后均收获了不俗的收益。以近期两度被举牌的中国建筑为例，该股股价自10月10日开始上涨，最高涨至11.45元/股，累计涨幅近70%；<A  href=\"http://finance.china.com.cn/stock/quote/sh600275/\" target=\"_blank\" title=\"\">武昌鱼</A>在被长金投资举牌后，股价从11.52元/股最高涨至24.50元/股。 </P>\t\t\t<DIV>(责任编辑：郭伟莹)</DIV>\",\"SOURCE\":\"中国网\",\"URL\":\"http://finance.china.com.cn/news/20170101/4051534.shtml\",\"SECTIONS\":\"险资举牌|热点关键字|香港中资股|功能关键字|股市|标准新闻|精选新闻|分类|旧版新闻|股权质押|股市|大盘\",\"AREACODES\":\"DQXW0101:中国|DQXW01:大中华区|DQXW:地区新闻|DQ0001:中国（临时）|DQ0002:香港|ON05:地区\",\"WINDCODES\":\"600016.SH:民生银行|ON0201:A股|1988.HK:民生银行|ON0204:港股|000876.SZ:新希望|2202.HK:万科企业|000002.SZ:万科A|600315.SH:上海家化|000651.SZ:格力电器|06V9098B6F:江阴天江药业有限公司|3783:非上市公司|000069.SZ:华侨城A|000783.SZ:长江证券|831234.OC:天辰股份|ON0207:三板股|000046.SZ:泛海控股|000623.SZ:吉林敖东|ON02:公司|000002.SH:上证A指|ON0209:沪深|000015.SH:上证红利|399324.SZ:深证红利|399100.SZ:深证新综指|399004.SZ:深证100R|399344.SZ:深证300R|399107.SZ:深证A指\",\"INDUSTRYCODES\":null,\"SECTERCODES\":null,\"KEYWORDS\":null,\"OPDATE\":\"2017-01-02 16:32:47\",\"OPMODE\":\"0\",\"MKTSENTIMENTS\":\"600016.SH0401:民生银行正面|ON11010301:A股正面|ON110103:公司正面|3745:正面情绪|600315.SH0401:上海家化正面|1988.HK0401:民生银行正面|ON11010304:港股正面|000002.SZ0401:万科A正面|000046.SZ0401:泛海控股正面|000069.SZ0401:华侨城A正面|000623.SZ0401:吉林敖东正面|000651.SZ0401:格力电器正面|000783.SZ0401:长江证券正面|000876.SZ0401:新希望正面|ON11:市场情绪\"}\n",
      "\n"
     ]
    },
    {
     "ename": "JSONDecodeError",
     "evalue": "Invalid control character at: line 1 column 119 (char 118)",
     "traceback": [
      "\u001b[0;31m---------------------------------------------------------------------------\u001b[0m",
      "\u001b[0;31mJSONDecodeError\u001b[0m                           Traceback (most recent call last)",
      "\u001b[0;32m<ipython-input-36-c42077b7c9e4>\u001b[0m in \u001b[0;36m<module>\u001b[0;34m()\u001b[0m\n\u001b[1;32m     11\u001b[0m     \u001b[0mold\u001b[0m \u001b[0;34m=\u001b[0m \u001b[0mone\u001b[0m\u001b[0;34m.\u001b[0m\u001b[0mreplace\u001b[0m\u001b[0;34m(\u001b[0m\u001b[0;34m'\\\\'\u001b[0m\u001b[0;34m,\u001b[0m\u001b[0;34m''\u001b[0m\u001b[0;34m)\u001b[0m\u001b[0;34m\u001b[0m\u001b[0m\n\u001b[1;32m     12\u001b[0m     \u001b[0mprint\u001b[0m\u001b[0;34m(\u001b[0m\u001b[0mold\u001b[0m\u001b[0;34m)\u001b[0m\u001b[0;34m\u001b[0m\u001b[0m\n\u001b[0;32m---> 13\u001b[0;31m     \u001b[0mold\u001b[0m \u001b[0;34m=\u001b[0m \u001b[0mjson\u001b[0m\u001b[0;34m.\u001b[0m\u001b[0mloads\u001b[0m\u001b[0;34m(\u001b[0m\u001b[0mold\u001b[0m\u001b[0;34m)\u001b[0m\u001b[0;34m\u001b[0m\u001b[0m\n\u001b[0m\u001b[1;32m     14\u001b[0m     \u001b[0;32mbreak\u001b[0m\u001b[0;34m\u001b[0m\u001b[0m\n\u001b[1;32m     15\u001b[0m     \u001b[0mnew_one\u001b[0m\u001b[0;34m[\u001b[0m\u001b[0;34m'time'\u001b[0m\u001b[0;34m]\u001b[0m \u001b[0;34m=\u001b[0m \u001b[0mold\u001b[0m\u001b[0;34m[\u001b[0m\u001b[0;34m'PUBLISHDATE'\u001b[0m\u001b[0;34m]\u001b[0m\u001b[0;34m[\u001b[0m\u001b[0;34m:\u001b[0m\u001b[0;34m-\u001b[0m\u001b[0;36m3\u001b[0m\u001b[0;34m]\u001b[0m\u001b[0;34m\u001b[0m\u001b[0m\n",
      "\u001b[0;32m/Library/Frameworks/Python.framework/Versions/3.6/lib/python3.6/json/__init__.py\u001b[0m in \u001b[0;36mloads\u001b[0;34m(s, encoding, cls, object_hook, parse_float, parse_int, parse_constant, object_pairs_hook, **kw)\u001b[0m\n\u001b[1;32m    352\u001b[0m             \u001b[0mparse_int\u001b[0m \u001b[0;32mis\u001b[0m \u001b[0;32mNone\u001b[0m \u001b[0;32mand\u001b[0m \u001b[0mparse_float\u001b[0m \u001b[0;32mis\u001b[0m \u001b[0;32mNone\u001b[0m \u001b[0;32mand\u001b[0m\u001b[0;34m\u001b[0m\u001b[0m\n\u001b[1;32m    353\u001b[0m             parse_constant is None and object_pairs_hook is None and not kw):\n\u001b[0;32m--> 354\u001b[0;31m         \u001b[0;32mreturn\u001b[0m \u001b[0m_default_decoder\u001b[0m\u001b[0;34m.\u001b[0m\u001b[0mdecode\u001b[0m\u001b[0;34m(\u001b[0m\u001b[0ms\u001b[0m\u001b[0;34m)\u001b[0m\u001b[0;34m\u001b[0m\u001b[0m\n\u001b[0m\u001b[1;32m    355\u001b[0m     \u001b[0;32mif\u001b[0m \u001b[0mcls\u001b[0m \u001b[0;32mis\u001b[0m \u001b[0;32mNone\u001b[0m\u001b[0;34m:\u001b[0m\u001b[0;34m\u001b[0m\u001b[0m\n\u001b[1;32m    356\u001b[0m         \u001b[0mcls\u001b[0m \u001b[0;34m=\u001b[0m \u001b[0mJSONDecoder\u001b[0m\u001b[0;34m\u001b[0m\u001b[0m\n",
      "\u001b[0;32m/Library/Frameworks/Python.framework/Versions/3.6/lib/python3.6/json/decoder.py\u001b[0m in \u001b[0;36mdecode\u001b[0;34m(self, s, _w)\u001b[0m\n\u001b[1;32m    337\u001b[0m \u001b[0;34m\u001b[0m\u001b[0m\n\u001b[1;32m    338\u001b[0m         \"\"\"\n\u001b[0;32m--> 339\u001b[0;31m         \u001b[0mobj\u001b[0m\u001b[0;34m,\u001b[0m \u001b[0mend\u001b[0m \u001b[0;34m=\u001b[0m \u001b[0mself\u001b[0m\u001b[0;34m.\u001b[0m\u001b[0mraw_decode\u001b[0m\u001b[0;34m(\u001b[0m\u001b[0ms\u001b[0m\u001b[0;34m,\u001b[0m \u001b[0midx\u001b[0m\u001b[0;34m=\u001b[0m\u001b[0m_w\u001b[0m\u001b[0;34m(\u001b[0m\u001b[0ms\u001b[0m\u001b[0;34m,\u001b[0m \u001b[0;36m0\u001b[0m\u001b[0;34m)\u001b[0m\u001b[0;34m.\u001b[0m\u001b[0mend\u001b[0m\u001b[0;34m(\u001b[0m\u001b[0;34m)\u001b[0m\u001b[0;34m)\u001b[0m\u001b[0;34m\u001b[0m\u001b[0m\n\u001b[0m\u001b[1;32m    340\u001b[0m         \u001b[0mend\u001b[0m \u001b[0;34m=\u001b[0m \u001b[0m_w\u001b[0m\u001b[0;34m(\u001b[0m\u001b[0ms\u001b[0m\u001b[0;34m,\u001b[0m \u001b[0mend\u001b[0m\u001b[0;34m)\u001b[0m\u001b[0;34m.\u001b[0m\u001b[0mend\u001b[0m\u001b[0;34m(\u001b[0m\u001b[0;34m)\u001b[0m\u001b[0;34m\u001b[0m\u001b[0m\n\u001b[1;32m    341\u001b[0m         \u001b[0;32mif\u001b[0m \u001b[0mend\u001b[0m \u001b[0;34m!=\u001b[0m \u001b[0mlen\u001b[0m\u001b[0;34m(\u001b[0m\u001b[0ms\u001b[0m\u001b[0;34m)\u001b[0m\u001b[0;34m:\u001b[0m\u001b[0;34m\u001b[0m\u001b[0m\n",
      "\u001b[0;32m/Library/Frameworks/Python.framework/Versions/3.6/lib/python3.6/json/decoder.py\u001b[0m in \u001b[0;36mraw_decode\u001b[0;34m(self, s, idx)\u001b[0m\n\u001b[1;32m    353\u001b[0m         \"\"\"\n\u001b[1;32m    354\u001b[0m         \u001b[0;32mtry\u001b[0m\u001b[0;34m:\u001b[0m\u001b[0;34m\u001b[0m\u001b[0m\n\u001b[0;32m--> 355\u001b[0;31m             \u001b[0mobj\u001b[0m\u001b[0;34m,\u001b[0m \u001b[0mend\u001b[0m \u001b[0;34m=\u001b[0m \u001b[0mself\u001b[0m\u001b[0;34m.\u001b[0m\u001b[0mscan_once\u001b[0m\u001b[0;34m(\u001b[0m\u001b[0ms\u001b[0m\u001b[0;34m,\u001b[0m \u001b[0midx\u001b[0m\u001b[0;34m)\u001b[0m\u001b[0;34m\u001b[0m\u001b[0m\n\u001b[0m\u001b[1;32m    356\u001b[0m         \u001b[0;32mexcept\u001b[0m \u001b[0mStopIteration\u001b[0m \u001b[0;32mas\u001b[0m \u001b[0merr\u001b[0m\u001b[0;34m:\u001b[0m\u001b[0;34m\u001b[0m\u001b[0m\n\u001b[1;32m    357\u001b[0m             \u001b[0;32mraise\u001b[0m \u001b[0mJSONDecodeError\u001b[0m\u001b[0;34m(\u001b[0m\u001b[0;34m\"Expecting value\"\u001b[0m\u001b[0;34m,\u001b[0m \u001b[0ms\u001b[0m\u001b[0;34m,\u001b[0m \u001b[0merr\u001b[0m\u001b[0;34m.\u001b[0m\u001b[0mvalue\u001b[0m\u001b[0;34m)\u001b[0m \u001b[0;32mfrom\u001b[0m \u001b[0;32mNone\u001b[0m\u001b[0;34m\u001b[0m\u001b[0m\n",
      "\u001b[0;31mJSONDecodeError\u001b[0m: Invalid control character at: line 1 column 119 (char 118)"
     ],
     "output_type": "error"
    }
   ],
   "source": [
    "import json\n",
    "import codecs\n",
    "\n",
    "# f = codecs.open('/Users/zoe/Documents/event_extraction/wande-data/2017.txt','w', 'utf8')\n",
    "i = 0\n",
    "ex = 0\n",
    "for one in a[:1]:\n",
    "    new_one = dict()\n",
    "    i+=1\n",
    "#     try:\n",
    "    old = one.replace('\\\\','')\n",
    "    print(old)\n",
    "    old = json.loads(old)\n",
    "    break\n",
    "    new_one['time'] = old['PUBLISHDATE'][:-3]\n",
    "    new_one['source'] = old['SOURCE']\n",
    "    new_one['id'] = int(old['OBJECT_ID'])\n",
    "    new_one['content'] = old['CONTENT'][:100]\n",
    "    new_one['url'] = old['URL']\n",
    "    new_one['title'] = old['TITLE']\n",
    "#     except:\n",
    "#         ex += 1\n",
    "#         print(old)\n",
    "#         break\n",
    "#     f.write(json.dumps({\"index\":{}})+'\\n')\n",
    "#     f.write(json.dumps(new_one, ensure_ascii=False)+'\\n')\n",
    "    \n",
    "print(i,ex)\n",
    "# f.close()\n",
    "\n",
    "# 414002 187413\n",
    "# 401449 352771\n"
   ]
  },
  {
   "cell_type": "code",
   "execution_count": null,
   "metadata": {},
   "outputs": [],
   "source": []
  }
 ],
 "metadata": {
  "kernelspec": {
   "display_name": "Python 3",
   "language": "python",
   "name": "python3"
  },
  "language_info": {
   "codemirror_mode": {
    "name": "ipython",
    "version": 3
   },
   "file_extension": ".py",
   "mimetype": "text/x-python",
   "name": "python",
   "nbconvert_exporter": "python",
   "pygments_lexer": "ipython3",
   "version": "3.6.2"
  }
 },
 "nbformat": 4,
 "nbformat_minor": 2
}
